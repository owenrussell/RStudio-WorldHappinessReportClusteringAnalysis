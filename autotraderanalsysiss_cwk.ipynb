{
  "nbformat": 4,
  "nbformat_minor": 0,
  "metadata": {
    "colab": {
      "name": "autotraderanalsysiss.cwk",
      "provenance": [],
      "collapsed_sections": [],
      "mount_file_id": "1F6n5PdIcMLF9LRvssMy1HcKFbvkptCUl",
      "authorship_tag": "ABX9TyP9PLZBY3mC06yqkJN62DqH",
      "include_colab_link": true
    },
    "kernelspec": {
      "name": "python3",
      "display_name": "Python 3"
    },
    "language_info": {
      "name": "python"
    }
  },
  "cells": [
    {
      "cell_type": "markdown",
      "metadata": {
        "id": "view-in-github",
        "colab_type": "text"
      },
      "source": [
        "<a href=\"https://colab.research.google.com/github/owenrussell/clustranalyssworld-hapines/blob/main/autotraderanalsysiss_cwk.ipynb\" target=\"_parent\"><img src=\"https://colab.research.google.com/assets/colab-badge.svg\" alt=\"Open In Colab\"/></a>"
      ]
    },
    {
      "cell_type": "markdown",
      "metadata": {
        "id": "2o4pAQjDYHno"
      },
      "source": [
        "In this notebook i will display and commentate on the process of importing, cleaning and analysing a dataset.\n",
        "\n",
        "The dataset in question is from AutoTraders car advert sales data and contains 402,005 observations.\n",
        "\n",
        "Functions from the appropriate imported packages will aid with the analysis in forming various plots and graphs.\n"
      ]
    },
    {
      "cell_type": "markdown",
      "metadata": {
        "id": "Ihd1QGAAxcv8"
      },
      "source": [
        "Importing necessary packages and using aliases for ease of use"
      ]
    },
    {
      "cell_type": "code",
      "metadata": {
        "id": "Kho437RCeoKX"
      },
      "source": [
        "import pandas as pd\n",
        "import numpy as np\n",
        "import matplotlib.pyplot as plt\n",
        "import seaborn as sns"
      ],
      "execution_count": null,
      "outputs": []
    },
    {
      "cell_type": "markdown",
      "metadata": {
        "id": "dEI67vARxkhs"
      },
      "source": [
        "Reading in the data from Google Drive using pandas so that it can be manipulated as a data frame"
      ]
    },
    {
      "cell_type": "code",
      "metadata": {
        "id": "jVBGEFrcdEIG"
      },
      "source": [
        "data = pd.read_csv('/content/drive/MyDrive/adverts.csv')"
      ],
      "execution_count": null,
      "outputs": []
    },
    {
      "cell_type": "markdown",
      "metadata": {
        "id": "39D-ymOexoZQ"
      },
      "source": [
        "Assessing a few sample rows so that i can view the different columns and get a feel for the data"
      ]
    },
    {
      "cell_type": "code",
      "metadata": {
        "id": "btw3665ee4Sv",
        "colab": {
          "base_uri": "https://localhost:8080/",
          "height": 266
        },
        "outputId": "aaa4368c-da74-440e-af6e-c5689fe5055e"
      },
      "source": [
        "data.sample(7)"
      ],
      "execution_count": null,
      "outputs": [
        {
          "output_type": "execute_result",
          "data": {
            "text/html": [
              "<div>\n",
              "<style scoped>\n",
              "    .dataframe tbody tr th:only-of-type {\n",
              "        vertical-align: middle;\n",
              "    }\n",
              "\n",
              "    .dataframe tbody tr th {\n",
              "        vertical-align: top;\n",
              "    }\n",
              "\n",
              "    .dataframe thead th {\n",
              "        text-align: right;\n",
              "    }\n",
              "</style>\n",
              "<table border=\"1\" class=\"dataframe\">\n",
              "  <thead>\n",
              "    <tr style=\"text-align: right;\">\n",
              "      <th></th>\n",
              "      <th>public_reference</th>\n",
              "      <th>mileage</th>\n",
              "      <th>reg_code</th>\n",
              "      <th>standard_colour</th>\n",
              "      <th>standard_make</th>\n",
              "      <th>standard_model</th>\n",
              "      <th>vehicle_condition</th>\n",
              "      <th>year_of_registration</th>\n",
              "      <th>price</th>\n",
              "      <th>body_type</th>\n",
              "      <th>crossover_car_and_van</th>\n",
              "      <th>fuel_type</th>\n",
              "    </tr>\n",
              "  </thead>\n",
              "  <tbody>\n",
              "    <tr>\n",
              "      <th>212421</th>\n",
              "      <td>2.020100e+14</td>\n",
              "      <td>42100.0</td>\n",
              "      <td>67</td>\n",
              "      <td>Grey</td>\n",
              "      <td>MINI</td>\n",
              "      <td>Hatch</td>\n",
              "      <td>USED</td>\n",
              "      <td>2017.0</td>\n",
              "      <td>10241</td>\n",
              "      <td>Hatchback</td>\n",
              "      <td>False</td>\n",
              "      <td>Petrol</td>\n",
              "    </tr>\n",
              "    <tr>\n",
              "      <th>236486</th>\n",
              "      <td>2.020090e+14</td>\n",
              "      <td>61000.0</td>\n",
              "      <td>8</td>\n",
              "      <td>Silver</td>\n",
              "      <td>Renault</td>\n",
              "      <td>Twingo</td>\n",
              "      <td>USED</td>\n",
              "      <td>2008.0</td>\n",
              "      <td>1695</td>\n",
              "      <td>Hatchback</td>\n",
              "      <td>False</td>\n",
              "      <td>Petrol</td>\n",
              "    </tr>\n",
              "    <tr>\n",
              "      <th>129794</th>\n",
              "      <td>2.020100e+14</td>\n",
              "      <td>1000.0</td>\n",
              "      <td>70</td>\n",
              "      <td>Grey</td>\n",
              "      <td>Mercedes-Benz</td>\n",
              "      <td>GLC Class</td>\n",
              "      <td>USED</td>\n",
              "      <td>2020.0</td>\n",
              "      <td>42980</td>\n",
              "      <td>SUV</td>\n",
              "      <td>False</td>\n",
              "      <td>Diesel</td>\n",
              "    </tr>\n",
              "    <tr>\n",
              "      <th>74109</th>\n",
              "      <td>2.020090e+14</td>\n",
              "      <td>956.0</td>\n",
              "      <td>70</td>\n",
              "      <td>NaN</td>\n",
              "      <td>Land Rover</td>\n",
              "      <td>Range Rover Evoque</td>\n",
              "      <td>USED</td>\n",
              "      <td>2020.0</td>\n",
              "      <td>37000</td>\n",
              "      <td>SUV</td>\n",
              "      <td>False</td>\n",
              "      <td>Diesel</td>\n",
              "    </tr>\n",
              "    <tr>\n",
              "      <th>233459</th>\n",
              "      <td>2.020090e+14</td>\n",
              "      <td>2771.0</td>\n",
              "      <td>20</td>\n",
              "      <td>White</td>\n",
              "      <td>Toyota</td>\n",
              "      <td>Corolla</td>\n",
              "      <td>USED</td>\n",
              "      <td>2020.0</td>\n",
              "      <td>25000</td>\n",
              "      <td>Estate</td>\n",
              "      <td>False</td>\n",
              "      <td>Petrol Hybrid</td>\n",
              "    </tr>\n",
              "    <tr>\n",
              "      <th>104991</th>\n",
              "      <td>2.020090e+14</td>\n",
              "      <td>82956.0</td>\n",
              "      <td>63</td>\n",
              "      <td>White</td>\n",
              "      <td>Nissan</td>\n",
              "      <td>Juke</td>\n",
              "      <td>USED</td>\n",
              "      <td>2013.0</td>\n",
              "      <td>5233</td>\n",
              "      <td>SUV</td>\n",
              "      <td>False</td>\n",
              "      <td>Petrol</td>\n",
              "    </tr>\n",
              "    <tr>\n",
              "      <th>359297</th>\n",
              "      <td>2.020100e+14</td>\n",
              "      <td>36368.0</td>\n",
              "      <td>67</td>\n",
              "      <td>Red</td>\n",
              "      <td>Vauxhall</td>\n",
              "      <td>Crossland X</td>\n",
              "      <td>USED</td>\n",
              "      <td>2018.0</td>\n",
              "      <td>10475</td>\n",
              "      <td>SUV</td>\n",
              "      <td>False</td>\n",
              "      <td>Diesel</td>\n",
              "    </tr>\n",
              "  </tbody>\n",
              "</table>\n",
              "</div>"
            ],
            "text/plain": [
              "        public_reference  mileage  ... crossover_car_and_van      fuel_type\n",
              "212421      2.020100e+14  42100.0  ...                 False         Petrol\n",
              "236486      2.020090e+14  61000.0  ...                 False         Petrol\n",
              "129794      2.020100e+14   1000.0  ...                 False         Diesel\n",
              "74109       2.020090e+14    956.0  ...                 False         Diesel\n",
              "233459      2.020090e+14   2771.0  ...                 False  Petrol Hybrid\n",
              "104991      2.020090e+14  82956.0  ...                 False         Petrol\n",
              "359297      2.020100e+14  36368.0  ...                 False         Diesel\n",
              "\n",
              "[7 rows x 12 columns]"
            ]
          },
          "metadata": {},
          "execution_count": 3
        }
      ]
    },
    {
      "cell_type": "markdown",
      "metadata": {
        "id": "QjWSM7NlhA7i"
      },
      "source": [
        "The info function helpfully shows the structure of the dataset and the various types of data"
      ]
    },
    {
      "cell_type": "code",
      "metadata": {
        "id": "njxz5RgYg5fq",
        "colab": {
          "base_uri": "https://localhost:8080/"
        },
        "outputId": "c78914d5-7d40-4be0-9ec9-874cd34af7be"
      },
      "source": [
        "data.info()"
      ],
      "execution_count": null,
      "outputs": [
        {
          "output_type": "stream",
          "name": "stdout",
          "text": [
            "<class 'pandas.core.frame.DataFrame'>\n",
            "RangeIndex: 402005 entries, 0 to 402004\n",
            "Data columns (total 12 columns):\n",
            " #   Column                 Non-Null Count   Dtype  \n",
            "---  ------                 --------------   -----  \n",
            " 0   public_reference       402005 non-null  float64\n",
            " 1   mileage                401878 non-null  float64\n",
            " 2   reg_code               370148 non-null  object \n",
            " 3   standard_colour        396627 non-null  object \n",
            " 4   standard_make          402005 non-null  object \n",
            " 5   standard_model         402005 non-null  object \n",
            " 6   vehicle_condition      402005 non-null  object \n",
            " 7   year_of_registration   368694 non-null  float64\n",
            " 8   price                  402005 non-null  int64  \n",
            " 9   body_type              401168 non-null  object \n",
            " 10  crossover_car_and_van  402005 non-null  bool   \n",
            " 11  fuel_type              401404 non-null  object \n",
            "dtypes: bool(1), float64(3), int64(1), object(7)\n",
            "memory usage: 34.1+ MB\n"
          ]
        }
      ]
    },
    {
      "cell_type": "markdown",
      "metadata": {
        "id": "ZbvmxSOPvPLu"
      },
      "source": [
        "Lots of information can be gained from this output:\n",
        "\n",
        "Mileage, Registration year, Price, and Public reference are all listed as floats/ints. Therefore, these features can be easily analysed with statistics as they are numerical.\n",
        "\n",
        "The other features are of type - object. This means they are strings and will be used as categorical variables. The crossover car and van column is actually a boolean, but it does not add further knowledge so i will ignore it.\n",
        "\n",
        "Public reference is of type - float but it should not be used for analysis. As its sole purpose is to identify the different cars. This column can then be set as the index because it is not useful analytically within the dataframe.\n",
        "\n",
        "The Non-Null count column indicates the amount of missing values variables for each variable. Most notably - Year of registration & Reg code, have about 30 thousand null values. This may be due to brand new cars not being fully registered yet."
      ]
    },
    {
      "cell_type": "code",
      "metadata": {
        "colab": {
          "base_uri": "https://localhost:8080/",
          "height": 142
        },
        "id": "kgiRAuZB7jvI",
        "outputId": "dbe706f1-0e48-4c1a-98ba-07ebc5d25557"
      },
      "source": [
        "data.set_index('public_reference').head(2)"
      ],
      "execution_count": null,
      "outputs": [
        {
          "output_type": "execute_result",
          "data": {
            "text/html": [
              "<div>\n",
              "<style scoped>\n",
              "    .dataframe tbody tr th:only-of-type {\n",
              "        vertical-align: middle;\n",
              "    }\n",
              "\n",
              "    .dataframe tbody tr th {\n",
              "        vertical-align: top;\n",
              "    }\n",
              "\n",
              "    .dataframe thead th {\n",
              "        text-align: right;\n",
              "    }\n",
              "</style>\n",
              "<table border=\"1\" class=\"dataframe\">\n",
              "  <thead>\n",
              "    <tr style=\"text-align: right;\">\n",
              "      <th></th>\n",
              "      <th>mileage</th>\n",
              "      <th>reg_code</th>\n",
              "      <th>standard_colour</th>\n",
              "      <th>standard_make</th>\n",
              "      <th>standard_model</th>\n",
              "      <th>vehicle_condition</th>\n",
              "      <th>year_of_registration</th>\n",
              "      <th>price</th>\n",
              "      <th>body_type</th>\n",
              "      <th>crossover_car_and_van</th>\n",
              "      <th>fuel_type</th>\n",
              "    </tr>\n",
              "    <tr>\n",
              "      <th>public_reference</th>\n",
              "      <th></th>\n",
              "      <th></th>\n",
              "      <th></th>\n",
              "      <th></th>\n",
              "      <th></th>\n",
              "      <th></th>\n",
              "      <th></th>\n",
              "      <th></th>\n",
              "      <th></th>\n",
              "      <th></th>\n",
              "      <th></th>\n",
              "    </tr>\n",
              "  </thead>\n",
              "  <tbody>\n",
              "    <tr>\n",
              "      <th>2.020060e+14</th>\n",
              "      <td>0.0</td>\n",
              "      <td>NaN</td>\n",
              "      <td>Grey</td>\n",
              "      <td>Volvo</td>\n",
              "      <td>XC90</td>\n",
              "      <td>NEW</td>\n",
              "      <td>NaN</td>\n",
              "      <td>73970</td>\n",
              "      <td>SUV</td>\n",
              "      <td>False</td>\n",
              "      <td>Petrol Plug-in Hybrid</td>\n",
              "    </tr>\n",
              "    <tr>\n",
              "      <th>2.020070e+14</th>\n",
              "      <td>108230.0</td>\n",
              "      <td>61</td>\n",
              "      <td>Blue</td>\n",
              "      <td>Jaguar</td>\n",
              "      <td>XF</td>\n",
              "      <td>USED</td>\n",
              "      <td>2011.0</td>\n",
              "      <td>7000</td>\n",
              "      <td>Saloon</td>\n",
              "      <td>False</td>\n",
              "      <td>Diesel</td>\n",
              "    </tr>\n",
              "  </tbody>\n",
              "</table>\n",
              "</div>"
            ],
            "text/plain": [
              "                   mileage  ...              fuel_type\n",
              "public_reference            ...                       \n",
              "2.020060e+14           0.0  ...  Petrol Plug-in Hybrid\n",
              "2.020070e+14      108230.0  ...                 Diesel\n",
              "\n",
              "[2 rows x 11 columns]"
            ]
          },
          "metadata": {},
          "execution_count": 5
        }
      ]
    },
    {
      "cell_type": "markdown",
      "metadata": {
        "id": "yK9hQY0OqKhi"
      },
      "source": [
        "As discussed above, here i transformed the dataset by using the public reference column as the index."
      ]
    },
    {
      "cell_type": "code",
      "metadata": {
        "colab": {
          "base_uri": "https://localhost:8080/"
        },
        "id": "XfZP_x17k1wr",
        "outputId": "a874833c-ad92-4510-9149-47a24ef51c2a"
      },
      "source": [
        "data.isnull().sum()"
      ],
      "execution_count": null,
      "outputs": [
        {
          "output_type": "execute_result",
          "data": {
            "text/plain": [
              "public_reference             0\n",
              "mileage                    127\n",
              "reg_code                 31857\n",
              "standard_colour           5378\n",
              "standard_make                0\n",
              "standard_model               0\n",
              "vehicle_condition            0\n",
              "year_of_registration     33311\n",
              "price                        0\n",
              "body_type                  837\n",
              "crossover_car_and_van        0\n",
              "fuel_type                  601\n",
              "dtype: int64"
            ]
          },
          "metadata": {},
          "execution_count": 6
        }
      ]
    },
    {
      "cell_type": "markdown",
      "metadata": {
        "id": "fmqq8ZjAom5i"
      },
      "source": [
        "Here i use the isnull function and the missingno package to further investigate the missing values in my data.\n",
        "\n",
        "Assessing the missing values matrix plot, it can be seen that the missing values account for a small amount in proportion to the total volume of data.\n",
        "\n",
        "Even if i wanted to deal with the Reg code & Year of registration missing values, it would be difficult to impute values. For example, imputing a median value of Reg code would not make sense.\n",
        "\n",
        "Hence, i will not be overly worried about this affecting the analysis."
      ]
    },
    {
      "cell_type": "code",
      "metadata": {
        "colab": {
          "base_uri": "https://localhost:8080/",
          "height": 737
        },
        "id": "Bgj43DeAlnbT",
        "outputId": "b4ca0fee-0a11-4371-a7b1-ad2a0c243da3"
      },
      "source": [
        "import missingno as msno\n",
        "msno.matrix(data);"
      ],
      "execution_count": null,
      "outputs": [
        {
          "output_type": "display_data",
          "data": {
            "image/png": "[encoded data removed]",
            "text/plain": [
              "<Figure size 1800x720 with 2 Axes>"
            ]
          },
          "metadata": {
            "needs_background": "light"
          }
        }
      ]
    },
    {
      "cell_type": "markdown",
      "metadata": {
        "id": "vyGgMu_9zGbp"
      },
      "source": [
        "The Describe function gives a concise statistical summary of the numerical variables.\n",
        "\n",
        "\n",
        "\n"
      ]
    },
    {
      "cell_type": "code",
      "metadata": {
        "colab": {
          "base_uri": "https://localhost:8080/",
          "height": 297
        },
        "id": "EPlHO1sk29Bl",
        "outputId": "8ae361fa-1899-4706-f4de-b75e47879297"
      },
      "source": [
        "data.describe()"
      ],
      "execution_count": null,
      "outputs": [
        {
          "output_type": "execute_result",
          "data": {
            "text/html": [
              "<div>\n",
              "<style scoped>\n",
              "    .dataframe tbody tr th:only-of-type {\n",
              "        vertical-align: middle;\n",
              "    }\n",
              "\n",
              "    .dataframe tbody tr th {\n",
              "        vertical-align: top;\n",
              "    }\n",
              "\n",
              "    .dataframe thead th {\n",
              "        text-align: right;\n",
              "    }\n",
              "</style>\n",
              "<table border=\"1\" class=\"dataframe\">\n",
              "  <thead>\n",
              "    <tr style=\"text-align: right;\">\n",
              "      <th></th>\n",
              "      <th>public_reference</th>\n",
              "      <th>mileage</th>\n",
              "      <th>year_of_registration</th>\n",
              "      <th>price</th>\n",
              "    </tr>\n",
              "  </thead>\n",
              "  <tbody>\n",
              "    <tr>\n",
              "      <th>count</th>\n",
              "      <td>4.020050e+05</td>\n",
              "      <td>401878.000000</td>\n",
              "      <td>368694.000000</td>\n",
              "      <td>4.020050e+05</td>\n",
              "    </tr>\n",
              "    <tr>\n",
              "      <th>mean</th>\n",
              "      <td>2.020069e+14</td>\n",
              "      <td>37743.595656</td>\n",
              "      <td>2015.006206</td>\n",
              "      <td>1.734197e+04</td>\n",
              "    </tr>\n",
              "    <tr>\n",
              "      <th>std</th>\n",
              "      <td>1.691466e+10</td>\n",
              "      <td>34831.724018</td>\n",
              "      <td>7.962667</td>\n",
              "      <td>4.643746e+04</td>\n",
              "    </tr>\n",
              "    <tr>\n",
              "      <th>min</th>\n",
              "      <td>2.013070e+14</td>\n",
              "      <td>0.000000</td>\n",
              "      <td>999.000000</td>\n",
              "      <td>1.200000e+02</td>\n",
              "    </tr>\n",
              "    <tr>\n",
              "      <th>25%</th>\n",
              "      <td>2.020090e+14</td>\n",
              "      <td>10481.000000</td>\n",
              "      <td>2013.000000</td>\n",
              "      <td>7.495000e+03</td>\n",
              "    </tr>\n",
              "    <tr>\n",
              "      <th>50%</th>\n",
              "      <td>2.020090e+14</td>\n",
              "      <td>28629.500000</td>\n",
              "      <td>2016.000000</td>\n",
              "      <td>1.260000e+04</td>\n",
              "    </tr>\n",
              "    <tr>\n",
              "      <th>75%</th>\n",
              "      <td>2.020100e+14</td>\n",
              "      <td>56875.750000</td>\n",
              "      <td>2018.000000</td>\n",
              "      <td>2.000000e+04</td>\n",
              "    </tr>\n",
              "    <tr>\n",
              "      <th>max</th>\n",
              "      <td>2.020110e+14</td>\n",
              "      <td>999999.000000</td>\n",
              "      <td>2020.000000</td>\n",
              "      <td>9.999999e+06</td>\n",
              "    </tr>\n",
              "  </tbody>\n",
              "</table>\n",
              "</div>"
            ],
            "text/plain": [
              "       public_reference        mileage  year_of_registration         price\n",
              "count      4.020050e+05  401878.000000         368694.000000  4.020050e+05\n",
              "mean       2.020069e+14   37743.595656           2015.006206  1.734197e+04\n",
              "std        1.691466e+10   34831.724018              7.962667  4.643746e+04\n",
              "min        2.013070e+14       0.000000            999.000000  1.200000e+02\n",
              "25%        2.020090e+14   10481.000000           2013.000000  7.495000e+03\n",
              "50%        2.020090e+14   28629.500000           2016.000000  1.260000e+04\n",
              "75%        2.020100e+14   56875.750000           2018.000000  2.000000e+04\n",
              "max        2.020110e+14  999999.000000           2020.000000  9.999999e+06"
            ]
          },
          "metadata": {},
          "execution_count": 9
        }
      ]
    },
    {
      "cell_type": "markdown",
      "metadata": {
        "id": "ju9ABKQu_qZ-"
      },
      "source": [
        "Looking at the summary column for Year of registration, there is clearly an error because the minimum value is 999.\n",
        "\n",
        "As cars did not exist in the middle ages, the range of data will need visualised and then filtered accordingly.\n",
        "\n",
        "Similarly with the mileage summary,  maximum mileage is 999,999.\n",
        "\n",
        "This is likely to be an error, cars for sale are not likely to have as much mileage as this.\n",
        "\n",
        "Again, with the price maximum value, £9,999,999 seems unlikely and could be erroneous.\n",
        "\n",
        "Below, i will use Seaborns boxplots and quantiles to visualise and locate the possible outliers."
      ]
    },
    {
      "cell_type": "code",
      "metadata": {
        "colab": {
          "base_uri": "https://localhost:8080/",
          "height": 279
        },
        "id": "HpQcRa4w1llU",
        "outputId": "399183d6-6427-40b5-bf03-be005ef4c1e4"
      },
      "source": [
        "sns.boxplot(x=data['price']);"
      ],
      "execution_count": null,
      "outputs": [
        {
          "output_type": "display_data",
          "data": {
            "image/png": "[encoded data removed]",
            "text/plain": [
              "<Figure size 432x288 with 1 Axes>"
            ]
          },
          "metadata": {
            "needs_background": "light"
          }
        }
      ]
    },
    {
      "cell_type": "code",
      "metadata": {
        "colab": {
          "base_uri": "https://localhost:8080/",
          "height": 266
        },
        "id": "vIzCp1yI890N",
        "outputId": "0c2a4873-74ea-4318-e49f-1de29c2e809b"
      },
      "source": [
        "price_999985percentile = data['price'].quantile(0.999985)\n",
        "price_999985percentile\n",
        "data.loc[ data['price']> price_999985percentile ].sort_values('price').head(10)"
      ],
      "execution_count": null,
      "outputs": [
        {
          "output_type": "execute_result",
          "data": {
            "text/html": [
              "<div>\n",
              "<style scoped>\n",
              "    .dataframe tbody tr th:only-of-type {\n",
              "        vertical-align: middle;\n",
              "    }\n",
              "\n",
              "    .dataframe tbody tr th {\n",
              "        vertical-align: top;\n",
              "    }\n",
              "\n",
              "    .dataframe thead th {\n",
              "        text-align: right;\n",
              "    }\n",
              "</style>\n",
              "<table border=\"1\" class=\"dataframe\">\n",
              "  <thead>\n",
              "    <tr style=\"text-align: right;\">\n",
              "      <th></th>\n",
              "      <th>public_reference</th>\n",
              "      <th>mileage</th>\n",
              "      <th>reg_code</th>\n",
              "      <th>standard_colour</th>\n",
              "      <th>standard_make</th>\n",
              "      <th>standard_model</th>\n",
              "      <th>vehicle_condition</th>\n",
              "      <th>year_of_registration</th>\n",
              "      <th>price</th>\n",
              "      <th>body_type</th>\n",
              "      <th>crossover_car_and_van</th>\n",
              "      <th>fuel_type</th>\n",
              "    </tr>\n",
              "  </thead>\n",
              "  <tbody>\n",
              "    <tr>\n",
              "      <th>198060</th>\n",
              "      <td>2.020080e+14</td>\n",
              "      <td>300.0</td>\n",
              "      <td>17</td>\n",
              "      <td>NaN</td>\n",
              "      <td>Ferrari</td>\n",
              "      <td>LaFerrari</td>\n",
              "      <td>USED</td>\n",
              "      <td>2017.0</td>\n",
              "      <td>3799995</td>\n",
              "      <td>NaN</td>\n",
              "      <td>False</td>\n",
              "      <td>NaN</td>\n",
              "    </tr>\n",
              "    <tr>\n",
              "      <th>141833</th>\n",
              "      <td>2.020070e+14</td>\n",
              "      <td>87450.0</td>\n",
              "      <td>NaN</td>\n",
              "      <td>Red</td>\n",
              "      <td>Ferrari</td>\n",
              "      <td>250</td>\n",
              "      <td>USED</td>\n",
              "      <td>NaN</td>\n",
              "      <td>9999999</td>\n",
              "      <td>Coupe</td>\n",
              "      <td>False</td>\n",
              "      <td>Petrol</td>\n",
              "    </tr>\n",
              "    <tr>\n",
              "      <th>147188</th>\n",
              "      <td>2.020090e+14</td>\n",
              "      <td>100.0</td>\n",
              "      <td>NaN</td>\n",
              "      <td>Grey</td>\n",
              "      <td>Maserati</td>\n",
              "      <td>3500</td>\n",
              "      <td>USED</td>\n",
              "      <td>NaN</td>\n",
              "      <td>9999999</td>\n",
              "      <td>Convertible</td>\n",
              "      <td>False</td>\n",
              "      <td>Petrol</td>\n",
              "    </tr>\n",
              "    <tr>\n",
              "      <th>252505</th>\n",
              "      <td>2.020080e+14</td>\n",
              "      <td>46300.0</td>\n",
              "      <td>NaN</td>\n",
              "      <td>Blue</td>\n",
              "      <td>Ferrari</td>\n",
              "      <td>275</td>\n",
              "      <td>USED</td>\n",
              "      <td>NaN</td>\n",
              "      <td>9999999</td>\n",
              "      <td>Coupe</td>\n",
              "      <td>False</td>\n",
              "      <td>Petrol</td>\n",
              "    </tr>\n",
              "    <tr>\n",
              "      <th>305436</th>\n",
              "      <td>2.018120e+14</td>\n",
              "      <td>3600.0</td>\n",
              "      <td>NaN</td>\n",
              "      <td>Grey</td>\n",
              "      <td>Lamborghini</td>\n",
              "      <td>Miura</td>\n",
              "      <td>USED</td>\n",
              "      <td>NaN</td>\n",
              "      <td>9999999</td>\n",
              "      <td>Coupe</td>\n",
              "      <td>False</td>\n",
              "      <td>Petrol</td>\n",
              "    </tr>\n",
              "    <tr>\n",
              "      <th>336202</th>\n",
              "      <td>2.020010e+14</td>\n",
              "      <td>950.0</td>\n",
              "      <td>NaN</td>\n",
              "      <td>Black</td>\n",
              "      <td>Ferrari</td>\n",
              "      <td>LaFerrari</td>\n",
              "      <td>USED</td>\n",
              "      <td>NaN</td>\n",
              "      <td>9999999</td>\n",
              "      <td>Coupe</td>\n",
              "      <td>False</td>\n",
              "      <td>Petrol</td>\n",
              "    </tr>\n",
              "    <tr>\n",
              "      <th>336536</th>\n",
              "      <td>2.020060e+14</td>\n",
              "      <td>4400.0</td>\n",
              "      <td>NaN</td>\n",
              "      <td>White</td>\n",
              "      <td>Porsche</td>\n",
              "      <td>959</td>\n",
              "      <td>USED</td>\n",
              "      <td>NaN</td>\n",
              "      <td>9999999</td>\n",
              "      <td>Coupe</td>\n",
              "      <td>False</td>\n",
              "      <td>Petrol</td>\n",
              "    </tr>\n",
              "  </tbody>\n",
              "</table>\n",
              "</div>"
            ],
            "text/plain": [
              "        public_reference  mileage  ... crossover_car_and_van fuel_type\n",
              "198060      2.020080e+14    300.0  ...                 False       NaN\n",
              "141833      2.020070e+14  87450.0  ...                 False    Petrol\n",
              "147188      2.020090e+14    100.0  ...                 False    Petrol\n",
              "252505      2.020080e+14  46300.0  ...                 False    Petrol\n",
              "305436      2.018120e+14   3600.0  ...                 False    Petrol\n",
              "336202      2.020010e+14    950.0  ...                 False    Petrol\n",
              "336536      2.020060e+14   4400.0  ...                 False    Petrol\n",
              "\n",
              "[7 rows x 12 columns]"
            ]
          },
          "metadata": {},
          "execution_count": 66
        }
      ]
    },
    {
      "cell_type": "code",
      "metadata": {
        "id": "6dH0LzxdBD6M"
      },
      "source": [
        "data = data[data['price'] < 9999999]"
      ],
      "execution_count": null,
      "outputs": []
    },
    {
      "cell_type": "markdown",
      "metadata": {
        "id": "VQCIaO5wC92Q"
      },
      "source": [
        "Judging from both the boxplot and the top 6 highest values for price, i am going to assume these are errors and filter them out. \n",
        "\n",
        "This is because a price of £9.99 million does not seem reasonable, especisally compared with the next most pricey car (£3.8 million), and may be data entry mistakes."
      ]
    },
    {
      "cell_type": "code",
      "metadata": {
        "colab": {
          "base_uri": "https://localhost:8080/",
          "height": 279
        },
        "id": "YuMIv2h252Gx",
        "outputId": "a4bd3514-0a41-4a10-9873-3fe4fae206dc"
      },
      "source": [
        "sns.boxplot(x=data['mileage']);"
      ],
      "execution_count": null,
      "outputs": [
        {
          "output_type": "display_data",
          "data": {
            "image/png": "[encoded data removed]",
            "text/plain": [
              "<Figure size 432x288 with 1 Axes>"
            ]
          },
          "metadata": {
            "needs_background": "light"
          }
        }
      ]
    },
    {
      "cell_type": "code",
      "metadata": {
        "colab": {
          "base_uri": "https://localhost:8080/",
          "height": 266
        },
        "id": "VyKIvJh0_dtq",
        "outputId": "017b0856-9adb-4333-d5f9-ec7ad5c13281"
      },
      "source": [
        "mileage_999985percentile = data['mileage'].quantile(0.999985)\n",
        "mileage_999985percentile\n",
        "data.loc[ data['mileage']> mileage_999985percentile ].sort_values('mileage').head(10)"
      ],
      "execution_count": null,
      "outputs": [
        {
          "output_type": "execute_result",
          "data": {
            "text/html": [
              "<div>\n",
              "<style scoped>\n",
              "    .dataframe tbody tr th:only-of-type {\n",
              "        vertical-align: middle;\n",
              "    }\n",
              "\n",
              "    .dataframe tbody tr th {\n",
              "        vertical-align: top;\n",
              "    }\n",
              "\n",
              "    .dataframe thead th {\n",
              "        text-align: right;\n",
              "    }\n",
              "</style>\n",
              "<table border=\"1\" class=\"dataframe\">\n",
              "  <thead>\n",
              "    <tr style=\"text-align: right;\">\n",
              "      <th></th>\n",
              "      <th>public_reference</th>\n",
              "      <th>mileage</th>\n",
              "      <th>reg_code</th>\n",
              "      <th>standard_colour</th>\n",
              "      <th>standard_make</th>\n",
              "      <th>standard_model</th>\n",
              "      <th>vehicle_condition</th>\n",
              "      <th>year_of_registration</th>\n",
              "      <th>price</th>\n",
              "      <th>body_type</th>\n",
              "      <th>crossover_car_and_van</th>\n",
              "      <th>fuel_type</th>\n",
              "    </tr>\n",
              "  </thead>\n",
              "  <tbody>\n",
              "    <tr>\n",
              "      <th>333167</th>\n",
              "      <td>2.020100e+14</td>\n",
              "      <td>611121.0</td>\n",
              "      <td>13</td>\n",
              "      <td>White</td>\n",
              "      <td>Fiat</td>\n",
              "      <td>500</td>\n",
              "      <td>USED</td>\n",
              "      <td>2013.0</td>\n",
              "      <td>4500</td>\n",
              "      <td>Hatchback</td>\n",
              "      <td>False</td>\n",
              "      <td>Petrol</td>\n",
              "    </tr>\n",
              "    <tr>\n",
              "      <th>115277</th>\n",
              "      <td>2.020100e+14</td>\n",
              "      <td>740000.0</td>\n",
              "      <td>14</td>\n",
              "      <td>Blue</td>\n",
              "      <td>Volvo</td>\n",
              "      <td>XC90</td>\n",
              "      <td>USED</td>\n",
              "      <td>2014.0</td>\n",
              "      <td>14795</td>\n",
              "      <td>SUV</td>\n",
              "      <td>False</td>\n",
              "      <td>Diesel</td>\n",
              "    </tr>\n",
              "    <tr>\n",
              "      <th>240577</th>\n",
              "      <td>2.020090e+14</td>\n",
              "      <td>740000.0</td>\n",
              "      <td>11</td>\n",
              "      <td>White</td>\n",
              "      <td>Mercedes-Benz</td>\n",
              "      <td>E Class</td>\n",
              "      <td>USED</td>\n",
              "      <td>2011.0</td>\n",
              "      <td>10500</td>\n",
              "      <td>Convertible</td>\n",
              "      <td>False</td>\n",
              "      <td>Diesel</td>\n",
              "    </tr>\n",
              "    <tr>\n",
              "      <th>131508</th>\n",
              "      <td>2.020100e+14</td>\n",
              "      <td>788072.0</td>\n",
              "      <td>68</td>\n",
              "      <td>Blue</td>\n",
              "      <td>MINI</td>\n",
              "      <td>Countryman</td>\n",
              "      <td>USED</td>\n",
              "      <td>2018.0</td>\n",
              "      <td>22875</td>\n",
              "      <td>SUV</td>\n",
              "      <td>False</td>\n",
              "      <td>Petrol</td>\n",
              "    </tr>\n",
              "    <tr>\n",
              "      <th>85043</th>\n",
              "      <td>2.020100e+14</td>\n",
              "      <td>930000.0</td>\n",
              "      <td>56</td>\n",
              "      <td>Blue</td>\n",
              "      <td>BMW</td>\n",
              "      <td>1 Series</td>\n",
              "      <td>USED</td>\n",
              "      <td>2006.0</td>\n",
              "      <td>2500</td>\n",
              "      <td>Hatchback</td>\n",
              "      <td>False</td>\n",
              "      <td>Petrol</td>\n",
              "    </tr>\n",
              "    <tr>\n",
              "      <th>63569</th>\n",
              "      <td>2.020100e+14</td>\n",
              "      <td>990000.0</td>\n",
              "      <td>7</td>\n",
              "      <td>Red</td>\n",
              "      <td>Vauxhall</td>\n",
              "      <td>Zafira</td>\n",
              "      <td>USED</td>\n",
              "      <td>2007.0</td>\n",
              "      <td>1200</td>\n",
              "      <td>MPV</td>\n",
              "      <td>False</td>\n",
              "      <td>Diesel</td>\n",
              "    </tr>\n",
              "    <tr>\n",
              "      <th>43974</th>\n",
              "      <td>2.020080e+14</td>\n",
              "      <td>999999.0</td>\n",
              "      <td>63</td>\n",
              "      <td>White</td>\n",
              "      <td>Vauxhall</td>\n",
              "      <td>Astra</td>\n",
              "      <td>USED</td>\n",
              "      <td>2013.0</td>\n",
              "      <td>9999</td>\n",
              "      <td>Hatchback</td>\n",
              "      <td>False</td>\n",
              "      <td>Diesel</td>\n",
              "    </tr>\n",
              "  </tbody>\n",
              "</table>\n",
              "</div>"
            ],
            "text/plain": [
              "        public_reference   mileage  ... crossover_car_and_van fuel_type\n",
              "333167      2.020100e+14  611121.0  ...                 False    Petrol\n",
              "115277      2.020100e+14  740000.0  ...                 False    Diesel\n",
              "240577      2.020090e+14  740000.0  ...                 False    Diesel\n",
              "131508      2.020100e+14  788072.0  ...                 False    Petrol\n",
              "85043       2.020100e+14  930000.0  ...                 False    Petrol\n",
              "63569       2.020100e+14  990000.0  ...                 False    Diesel\n",
              "43974       2.020080e+14  999999.0  ...                 False    Diesel\n",
              "\n",
              "[7 rows x 12 columns]"
            ]
          },
          "metadata": {},
          "execution_count": 69
        }
      ]
    },
    {
      "cell_type": "code",
      "metadata": {
        "id": "v_8QUqYkBMuU"
      },
      "source": [
        "data = data[data['mileage'] < 611121 ]"
      ],
      "execution_count": null,
      "outputs": []
    },
    {
      "cell_type": "markdown",
      "metadata": {
        "id": "kNIABKyuEi-x"
      },
      "source": [
        "Assesing the top percentiles and the boxplot for mileage, i beleive these extreme values could be real (apart from the 999999 result). \n",
        "\n",
        "However, they are so extreme that they massively skew the distribution so i will remove them as outliers."
      ]
    },
    {
      "cell_type": "code",
      "metadata": {
        "colab": {
          "base_uri": "https://localhost:8080/",
          "height": 280
        },
        "id": "M62OEnWJ6XGv",
        "outputId": "678712b1-dfe2-4d5f-a7c8-ea9f8b32a946"
      },
      "source": [
        "sns.boxplot(x=data['year_of_registration']);"
      ],
      "execution_count": null,
      "outputs": [
        {
          "output_type": "display_data",
          "data": {
            "image/png": "[encoded data removed]",
            "text/plain": [
              "<Figure size 432x288 with 1 Axes>"
            ]
          },
          "metadata": {
            "needs_background": "light"
          }
        }
      ]
    },
    {
      "cell_type": "code",
      "metadata": {
        "colab": {
          "base_uri": "https://localhost:8080/",
          "height": 669
        },
        "id": "VhjTfIKG_wsa",
        "outputId": "eb073ce7-1e7c-47b7-dd5d-d61754144439"
      },
      "source": [
        "year_0005percentile = data['year_of_registration'].quantile(0.005)\n",
        "year_0005percentile\n",
        "data.loc[ data['year_of_registration']< year_0005percentile ].sort_values('year_of_registration').head(20)"
      ],
      "execution_count": null,
      "outputs": [
        {
          "output_type": "execute_result",
          "data": {
            "text/html": [
              "<div>\n",
              "<style scoped>\n",
              "    .dataframe tbody tr th:only-of-type {\n",
              "        vertical-align: middle;\n",
              "    }\n",
              "\n",
              "    .dataframe tbody tr th {\n",
              "        vertical-align: top;\n",
              "    }\n",
              "\n",
              "    .dataframe thead th {\n",
              "        text-align: right;\n",
              "    }\n",
              "</style>\n",
              "<table border=\"1\" class=\"dataframe\">\n",
              "  <thead>\n",
              "    <tr style=\"text-align: right;\">\n",
              "      <th></th>\n",
              "      <th>public_reference</th>\n",
              "      <th>mileage</th>\n",
              "      <th>reg_code</th>\n",
              "      <th>standard_colour</th>\n",
              "      <th>standard_make</th>\n",
              "      <th>standard_model</th>\n",
              "      <th>vehicle_condition</th>\n",
              "      <th>year_of_registration</th>\n",
              "      <th>price</th>\n",
              "      <th>body_type</th>\n",
              "      <th>crossover_car_and_van</th>\n",
              "      <th>fuel_type</th>\n",
              "    </tr>\n",
              "  </thead>\n",
              "  <tbody>\n",
              "    <tr>\n",
              "      <th>201626</th>\n",
              "      <td>2.020100e+14</td>\n",
              "      <td>69346.0</td>\n",
              "      <td>64</td>\n",
              "      <td>Red</td>\n",
              "      <td>Mazda</td>\n",
              "      <td>Mazda3</td>\n",
              "      <td>USED</td>\n",
              "      <td>999.0</td>\n",
              "      <td>8795</td>\n",
              "      <td>Saloon</td>\n",
              "      <td>False</td>\n",
              "      <td>Petrol</td>\n",
              "    </tr>\n",
              "    <tr>\n",
              "      <th>213059</th>\n",
              "      <td>2.020090e+14</td>\n",
              "      <td>54569.0</td>\n",
              "      <td>8</td>\n",
              "      <td>Silver</td>\n",
              "      <td>BMW</td>\n",
              "      <td>Z4</td>\n",
              "      <td>USED</td>\n",
              "      <td>999.0</td>\n",
              "      <td>7999</td>\n",
              "      <td>Convertible</td>\n",
              "      <td>False</td>\n",
              "      <td>Petrol</td>\n",
              "    </tr>\n",
              "    <tr>\n",
              "      <th>334679</th>\n",
              "      <td>2.020100e+14</td>\n",
              "      <td>107934.0</td>\n",
              "      <td>13</td>\n",
              "      <td>Blue</td>\n",
              "      <td>Audi</td>\n",
              "      <td>A3</td>\n",
              "      <td>USED</td>\n",
              "      <td>999.0</td>\n",
              "      <td>8895</td>\n",
              "      <td>Hatchback</td>\n",
              "      <td>False</td>\n",
              "      <td>Diesel</td>\n",
              "    </tr>\n",
              "    <tr>\n",
              "      <th>374798</th>\n",
              "      <td>2.020080e+14</td>\n",
              "      <td>58000.0</td>\n",
              "      <td>55</td>\n",
              "      <td>Silver</td>\n",
              "      <td>Toyota</td>\n",
              "      <td>RAV4</td>\n",
              "      <td>USED</td>\n",
              "      <td>1006.0</td>\n",
              "      <td>5994</td>\n",
              "      <td>SUV</td>\n",
              "      <td>False</td>\n",
              "      <td>Petrol</td>\n",
              "    </tr>\n",
              "    <tr>\n",
              "      <th>201773</th>\n",
              "      <td>2.020080e+14</td>\n",
              "      <td>19000.0</td>\n",
              "      <td>57</td>\n",
              "      <td>Silver</td>\n",
              "      <td>Mercedes-Benz</td>\n",
              "      <td>C Class</td>\n",
              "      <td>USED</td>\n",
              "      <td>1007.0</td>\n",
              "      <td>7295</td>\n",
              "      <td>Saloon</td>\n",
              "      <td>False</td>\n",
              "      <td>Petrol</td>\n",
              "    </tr>\n",
              "    <tr>\n",
              "      <th>339167</th>\n",
              "      <td>2.020060e+14</td>\n",
              "      <td>38000.0</td>\n",
              "      <td>57</td>\n",
              "      <td>White</td>\n",
              "      <td>MINI</td>\n",
              "      <td>Hatch</td>\n",
              "      <td>USED</td>\n",
              "      <td>1007.0</td>\n",
              "      <td>4795</td>\n",
              "      <td>Hatchback</td>\n",
              "      <td>False</td>\n",
              "      <td>Petrol</td>\n",
              "    </tr>\n",
              "    <tr>\n",
              "      <th>59010</th>\n",
              "      <td>2.020060e+14</td>\n",
              "      <td>14000.0</td>\n",
              "      <td>7</td>\n",
              "      <td>Blue</td>\n",
              "      <td>Toyota</td>\n",
              "      <td>Prius</td>\n",
              "      <td>USED</td>\n",
              "      <td>1007.0</td>\n",
              "      <td>7000</td>\n",
              "      <td>Hatchback</td>\n",
              "      <td>False</td>\n",
              "      <td>Petrol Hybrid</td>\n",
              "    </tr>\n",
              "    <tr>\n",
              "      <th>199987</th>\n",
              "      <td>2.020100e+14</td>\n",
              "      <td>104000.0</td>\n",
              "      <td>8</td>\n",
              "      <td>Silver</td>\n",
              "      <td>BMW</td>\n",
              "      <td>1 Series</td>\n",
              "      <td>USED</td>\n",
              "      <td>1008.0</td>\n",
              "      <td>4395</td>\n",
              "      <td>Convertible</td>\n",
              "      <td>False</td>\n",
              "      <td>Petrol</td>\n",
              "    </tr>\n",
              "    <tr>\n",
              "      <th>114737</th>\n",
              "      <td>2.020080e+14</td>\n",
              "      <td>30000.0</td>\n",
              "      <td>59</td>\n",
              "      <td>Red</td>\n",
              "      <td>Toyota</td>\n",
              "      <td>AYGO</td>\n",
              "      <td>USED</td>\n",
              "      <td>1009.0</td>\n",
              "      <td>4695</td>\n",
              "      <td>Hatchback</td>\n",
              "      <td>False</td>\n",
              "      <td>Petrol</td>\n",
              "    </tr>\n",
              "    <tr>\n",
              "      <th>199830</th>\n",
              "      <td>2.020090e+14</td>\n",
              "      <td>23000.0</td>\n",
              "      <td>59</td>\n",
              "      <td>Silver</td>\n",
              "      <td>MINI</td>\n",
              "      <td>Hatch</td>\n",
              "      <td>USED</td>\n",
              "      <td>1009.0</td>\n",
              "      <td>5995</td>\n",
              "      <td>Hatchback</td>\n",
              "      <td>False</td>\n",
              "      <td>Petrol</td>\n",
              "    </tr>\n",
              "    <tr>\n",
              "      <th>190556</th>\n",
              "      <td>2.020100e+14</td>\n",
              "      <td>58470.0</td>\n",
              "      <td>10</td>\n",
              "      <td>Black</td>\n",
              "      <td>Fiat</td>\n",
              "      <td>Punto Evo</td>\n",
              "      <td>USED</td>\n",
              "      <td>1010.0</td>\n",
              "      <td>3785</td>\n",
              "      <td>Hatchback</td>\n",
              "      <td>False</td>\n",
              "      <td>Petrol</td>\n",
              "    </tr>\n",
              "    <tr>\n",
              "      <th>387633</th>\n",
              "      <td>2.020100e+14</td>\n",
              "      <td>39624.0</td>\n",
              "      <td>65</td>\n",
              "      <td>Red</td>\n",
              "      <td>MINI</td>\n",
              "      <td>Clubman</td>\n",
              "      <td>USED</td>\n",
              "      <td>1015.0</td>\n",
              "      <td>15290</td>\n",
              "      <td>Estate</td>\n",
              "      <td>False</td>\n",
              "      <td>Petrol</td>\n",
              "    </tr>\n",
              "    <tr>\n",
              "      <th>120858</th>\n",
              "      <td>2.020100e+14</td>\n",
              "      <td>27200.0</td>\n",
              "      <td>66</td>\n",
              "      <td>Black</td>\n",
              "      <td>MINI</td>\n",
              "      <td>Clubman</td>\n",
              "      <td>USED</td>\n",
              "      <td>1016.0</td>\n",
              "      <td>18990</td>\n",
              "      <td>Estate</td>\n",
              "      <td>False</td>\n",
              "      <td>Diesel</td>\n",
              "    </tr>\n",
              "    <tr>\n",
              "      <th>274622</th>\n",
              "      <td>2.020100e+14</td>\n",
              "      <td>6353.0</td>\n",
              "      <td>17</td>\n",
              "      <td>Blue</td>\n",
              "      <td>BMW</td>\n",
              "      <td>2 Series</td>\n",
              "      <td>USED</td>\n",
              "      <td>1017.0</td>\n",
              "      <td>18990</td>\n",
              "      <td>Convertible</td>\n",
              "      <td>False</td>\n",
              "      <td>Petrol</td>\n",
              "    </tr>\n",
              "    <tr>\n",
              "      <th>201616</th>\n",
              "      <td>2.020100e+14</td>\n",
              "      <td>8600.0</td>\n",
              "      <td>68</td>\n",
              "      <td>Silver</td>\n",
              "      <td>BMW</td>\n",
              "      <td>M2</td>\n",
              "      <td>USED</td>\n",
              "      <td>1018.0</td>\n",
              "      <td>41990</td>\n",
              "      <td>Coupe</td>\n",
              "      <td>False</td>\n",
              "      <td>Petrol</td>\n",
              "    </tr>\n",
              "    <tr>\n",
              "      <th>84501</th>\n",
              "      <td>2.020090e+14</td>\n",
              "      <td>37771.0</td>\n",
              "      <td>63</td>\n",
              "      <td>Black</td>\n",
              "      <td>Smart</td>\n",
              "      <td>fortwo</td>\n",
              "      <td>USED</td>\n",
              "      <td>1063.0</td>\n",
              "      <td>4785</td>\n",
              "      <td>Coupe</td>\n",
              "      <td>False</td>\n",
              "      <td>Petrol</td>\n",
              "    </tr>\n",
              "    <tr>\n",
              "      <th>69516</th>\n",
              "      <td>2.020100e+14</td>\n",
              "      <td>96659.0</td>\n",
              "      <td>65</td>\n",
              "      <td>Black</td>\n",
              "      <td>Audi</td>\n",
              "      <td>A4 Avant</td>\n",
              "      <td>USED</td>\n",
              "      <td>1515.0</td>\n",
              "      <td>10385</td>\n",
              "      <td>Estate</td>\n",
              "      <td>False</td>\n",
              "      <td>Diesel</td>\n",
              "    </tr>\n",
              "    <tr>\n",
              "      <th>148003</th>\n",
              "      <td>2.020100e+14</td>\n",
              "      <td>31172.0</td>\n",
              "      <td>9</td>\n",
              "      <td>Black</td>\n",
              "      <td>Hyundai</td>\n",
              "      <td>i10</td>\n",
              "      <td>USED</td>\n",
              "      <td>1909.0</td>\n",
              "      <td>3950</td>\n",
              "      <td>Hatchback</td>\n",
              "      <td>False</td>\n",
              "      <td>Petrol</td>\n",
              "    </tr>\n",
              "    <tr>\n",
              "      <th>28925</th>\n",
              "      <td>2.020060e+14</td>\n",
              "      <td>26000.0</td>\n",
              "      <td>NaN</td>\n",
              "      <td>Black</td>\n",
              "      <td>Austin</td>\n",
              "      <td>Seven</td>\n",
              "      <td>USED</td>\n",
              "      <td>1933.0</td>\n",
              "      <td>9995</td>\n",
              "      <td>Saloon</td>\n",
              "      <td>False</td>\n",
              "      <td>Petrol</td>\n",
              "    </tr>\n",
              "    <tr>\n",
              "      <th>150850</th>\n",
              "      <td>2.020060e+14</td>\n",
              "      <td>12345.0</td>\n",
              "      <td>NaN</td>\n",
              "      <td>Black</td>\n",
              "      <td>Austin</td>\n",
              "      <td>Twelve</td>\n",
              "      <td>USED</td>\n",
              "      <td>1933.0</td>\n",
              "      <td>11990</td>\n",
              "      <td>Saloon</td>\n",
              "      <td>False</td>\n",
              "      <td>Petrol</td>\n",
              "    </tr>\n",
              "  </tbody>\n",
              "</table>\n",
              "</div>"
            ],
            "text/plain": [
              "        public_reference   mileage  ... crossover_car_and_van      fuel_type\n",
              "201626      2.020100e+14   69346.0  ...                 False         Petrol\n",
              "213059      2.020090e+14   54569.0  ...                 False         Petrol\n",
              "334679      2.020100e+14  107934.0  ...                 False         Diesel\n",
              "374798      2.020080e+14   58000.0  ...                 False         Petrol\n",
              "201773      2.020080e+14   19000.0  ...                 False         Petrol\n",
              "339167      2.020060e+14   38000.0  ...                 False         Petrol\n",
              "59010       2.020060e+14   14000.0  ...                 False  Petrol Hybrid\n",
              "199987      2.020100e+14  104000.0  ...                 False         Petrol\n",
              "114737      2.020080e+14   30000.0  ...                 False         Petrol\n",
              "199830      2.020090e+14   23000.0  ...                 False         Petrol\n",
              "190556      2.020100e+14   58470.0  ...                 False         Petrol\n",
              "387633      2.020100e+14   39624.0  ...                 False         Petrol\n",
              "120858      2.020100e+14   27200.0  ...                 False         Diesel\n",
              "274622      2.020100e+14    6353.0  ...                 False         Petrol\n",
              "201616      2.020100e+14    8600.0  ...                 False         Petrol\n",
              "84501       2.020090e+14   37771.0  ...                 False         Petrol\n",
              "69516       2.020100e+14   96659.0  ...                 False         Diesel\n",
              "148003      2.020100e+14   31172.0  ...                 False         Petrol\n",
              "28925       2.020060e+14   26000.0  ...                 False         Petrol\n",
              "150850      2.020060e+14   12345.0  ...                 False         Petrol\n",
              "\n",
              "[20 rows x 12 columns]"
            ]
          },
          "metadata": {},
          "execution_count": 72
        }
      ]
    },
    {
      "cell_type": "code",
      "metadata": {
        "id": "EK0bGVHMBfMe"
      },
      "source": [
        "data = data[data['year_of_registration'] > 1909 ]"
      ],
      "execution_count": null,
      "outputs": []
    },
    {
      "cell_type": "markdown",
      "metadata": {
        "id": "FhGAPYnQFflL"
      },
      "source": [
        "Same as previously, the analysis of outliers for the year of registration brings up issues. \n",
        "\n",
        "There are multiple results with over a thousand years old, these can not be real obviously as cars were not around in the middle ages.\n",
        "\n",
        "It is possible that the data entry has placed a '1' instead of a '2' when inputting data.\n",
        "\n",
        "There are two cars that are almost 100 years old, but these cars (Austins) are real so is possible they are not mistakes.\n",
        "\n",
        ","
      ]
    },
    {
      "cell_type": "markdown",
      "metadata": {
        "id": "G_Do5HBUGqm7"
      },
      "source": [
        "\n",
        "\n",
        "Now, to investigate categorical variables using the value counts and bar plot functions in combination."
      ]
    },
    {
      "cell_type": "code",
      "metadata": {
        "id": "Pc5DMhTtkxYp",
        "colab": {
          "base_uri": "https://localhost:8080/",
          "height": 360
        },
        "outputId": "f0ab3712-779b-4470-9aa7-7c22fa549a30"
      },
      "source": [
        "data['fuel_type'].value_counts(normalize=True).plot.bar(color='red');"
      ],
      "execution_count": null,
      "outputs": [
        {
          "output_type": "display_data",
          "data": {
            "image/png": "[encoded data removed]",
            "text/plain": [
              "<Figure size 432x288 with 1 Axes>"
            ]
          },
          "metadata": {
            "needs_background": "light"
          }
        }
      ]
    },
    {
      "cell_type": "markdown",
      "metadata": {
        "id": "fqwc1XaCApc-"
      },
      "source": [
        "This normalised graph of fuel type illustrates the proprtion of cars that use various fuels.\n",
        "\n",
        " It is clear to see that most cars are still running on fossil fuels (Petrol & Diesel) with them taking up a ( > 90% ) share of the plot."
      ]
    },
    {
      "cell_type": "code",
      "metadata": {
        "id": "7dKEQAf3lFqw",
        "colab": {
          "base_uri": "https://localhost:8080/",
          "height": 337
        },
        "outputId": "bee5d0d1-3461-4a4c-f475-0d056fa63659"
      },
      "source": [
        "data['body_type'].value_counts(normalize=True).plot.bar('blue');"
      ],
      "execution_count": null,
      "outputs": [
        {
          "output_type": "display_data",
          "data": {
            "image/png": "[encoded data removed]",
            "text/plain": [
              "<Figure size 432x288 with 1 Axes>"
            ]
          },
          "metadata": {
            "needs_background": "light"
          }
        }
      ]
    },
    {
      "cell_type": "markdown",
      "metadata": {
        "id": "-uTX2F9-Aebe"
      },
      "source": [
        "From this plot it can be shown that the most common body types for cars are hatchbacks (roughly 2 in every 5), followed by SUVs (about 1 in every 5)."
      ]
    },
    {
      "cell_type": "code",
      "metadata": {
        "colab": {
          "base_uri": "https://localhost:8080/",
          "height": 311
        },
        "id": "hN4gQX0VmG5q",
        "outputId": "9144b403-713b-4846-c1a1-1797f7f8251f"
      },
      "source": [
        "data['standard_colour'].value_counts(normalize=True).plot.bar(color='green');"
      ],
      "execution_count": null,
      "outputs": [
        {
          "output_type": "display_data",
          "data": {
            "image/png": "[encoded data removed]",
            "text/plain": [
              "<Figure size 432x288 with 1 Axes>"
            ]
          },
          "metadata": {
            "needs_background": "light"
          }
        }
      ]
    },
    {
      "cell_type": "markdown",
      "metadata": {
        "id": "9xRQlq2RId6V"
      },
      "source": [
        "The 6 main colours for cars are: Black, White, Grey, Blue, Silver, Red.\n",
        "\n",
        "Then followed by a huge dropoff in popularity in the other colours such as Green and Orange.\n",
        "\n",
        " Maybe people dont want to stand out from the crowd."
      ]
    },
    {
      "cell_type": "code",
      "metadata": {
        "colab": {
          "base_uri": "https://localhost:8080/",
          "height": 297
        },
        "id": "7QbSadWFz2T4",
        "outputId": "9152070a-12ea-4150-94de-2b29760b5f85"
      },
      "source": [
        "sns.boxplot(x='vehicle_condition', y='price', data=data.loc[data['price']<10000],order=[\"NEW\", \"USED\"] )"
      ],
      "execution_count": null,
      "outputs": [
        {
          "output_type": "execute_result",
          "data": {
            "text/plain": [
              "<matplotlib.axes._subplots.AxesSubplot at 0x7fdb0c52c410>"
            ]
          },
          "metadata": {},
          "execution_count": 126
        },
        {
          "output_type": "display_data",
          "data": {
            "image/png": "[encoded data removed]",
            "text/plain": [
              "<Figure size 432x288 with 1 Axes>"
            ]
          },
          "metadata": {
            "needs_background": "light"
          }
        }
      ]
    },
    {
      "cell_type": "markdown",
      "metadata": {
        "id": "rY6caJpb4igJ"
      },
      "source": [
        "New cars are more expensive than used, for most cars (under 100k), as expected. I had the NEW boxplot there but it has vanished last minute.."
      ]
    },
    {
      "cell_type": "code",
      "metadata": {
        "colab": {
          "base_uri": "https://localhost:8080/",
          "height": 441
        },
        "id": "gF1j5nrWqt_k",
        "outputId": "b07e3ef0-9acc-4c67-9d6f-91bef39f1613"
      },
      "source": [
        "dff = data[((data['price']<400000) & (data['year_of_registration']>1960))]\n",
        "sns.jointplot(data=dff, x=\"year_of_registration\", y=\"price\", kind=\"reg\");"
      ],
      "execution_count": null,
      "outputs": [
        {
          "output_type": "display_data",
          "data": {
            "image/png": "[encoded data removed]",
            "text/plain": [
              "<Figure size 432x432 with 3 Axes>"
            ]
          },
          "metadata": {
            "needs_background": "light"
          }
        }
      ]
    },
    {
      "cell_type": "markdown",
      "metadata": {
        "id": "4hEikvCnPSVZ"
      },
      "source": [
        "To evaluate which features are the best predictors of price, scatterplots can be used to view the relationship between price and other numerical variables.\n",
        "\n",
        "In the plot below i have excluded some data by reducing the range. This is to show more clearly the effect that Year of registration has on price.\n",
        "\n",
        "As the Year of registration gets older, the price gets smaller (mainly). \n",
        "\n",
        "This suggests that the age of a car is a useful predictor of the price, this makes sense as brand new cars will have less faults so will be more valuable.\n",
        "\n",
        "An expection to this would be vintage cars, which retain their value over time, as people consider these as timeless collectables. The points in the top left side of the graph may be explained by this (high price, old year).\n",
        "\n",
        "The regression line supports this hypothesis as it has a positive gradient, suggesting an increase in year causes an increase in price."
      ]
    },
    {
      "cell_type": "code",
      "metadata": {
        "colab": {
          "base_uri": "https://localhost:8080/",
          "height": 441
        },
        "id": "4hCK343CU5RT",
        "outputId": "126a7559-530a-4d40-aa37-4f5ae0494f88"
      },
      "source": [
        "dfff = data[((data['price']<400000) & (data['mileage']<400000))]\n",
        "sns.jointplot(data=dfff, x='mileage', y='price', kind = 'reg');"
      ],
      "execution_count": null,
      "outputs": [
        {
          "output_type": "display_data",
          "data": {
            "image/png": "[encoded data removed]",
            "text/plain": [
              "<Figure size 432x432 with 3 Axes>"
            ]
          },
          "metadata": {
            "needs_background": "light"
          }
        }
      ]
    },
    {
      "cell_type": "markdown",
      "metadata": {
        "id": "0ViYtfqmZ6wE"
      },
      "source": [
        "Investigating the relationship between mileage and price:\n",
        "\n",
        "At Min mileage (new) - the prices are the highest,\n",
        "\n",
        "At Max mileage (old) - the prices are the lowest,\n",
        "\n",
        "This is the inverse relationship shown in the graph. Price = 1 / mileage.\n",
        "\n",
        "Makes complete sense as cars with more miles on their odometers will have been used more and therefore will have depreciated in quality.\n",
        "\n",
        "Like in the Price ~  Year graph, i have had to filter out high outliers in the price and mileage columns. \n",
        "\n",
        "Regression line supports the claim as price extends below 0 for higher predicted mileage values. \n",
        "\n",
        "This regression line has a steeper gradient than the one in the plot above, suggesting that mileage is  better predictor for price than Year of registration is. This can be tested statistically later when comparing the correlation coefficients"
      ]
    },
    {
      "cell_type": "code",
      "metadata": {
        "colab": {
          "base_uri": "https://localhost:8080/",
          "height": 444
        },
        "id": "5tgU3cYWfY59",
        "outputId": "b92d1406-75e5-4d8a-d94e-8a62924c7167"
      },
      "source": [
        "cols = [ 'mileage', 'year_of_registration', 'price']\n",
        "mask = (data['mileage']>0) & (data['year_of_registration']>0) & \\\n",
        "    (data['price']<400000)\n",
        "df = data.loc[ mask, cols ]\n",
        "sns.pairplot(df, height=2);"
      ],
      "execution_count": null,
      "outputs": [
        {
          "output_type": "display_data",
          "data": {
            "image/png": "[encoded data removed]",
            "text/plain": [
              "<Figure size 432x432 with 12 Axes>"
            ]
          },
          "metadata": {
            "needs_background": "light"
          }
        }
      ]
    },
    {
      "cell_type": "markdown",
      "metadata": {
        "id": "SPE5Rt3Xgx37"
      },
      "source": [
        "This pairplot includes the two graphs from above. As they are placed together,  one could compare visually which feature is a better predictor of price. As mileage is more of a smooth solid curve, it could be assumed as a better predictor then year of registration."
      ]
    },
    {
      "cell_type": "code",
      "metadata": {
        "colab": {
          "base_uri": "https://localhost:8080/",
          "height": 204
        },
        "id": "jxPYTzSPhezS",
        "outputId": "66164e1c-db2c-445a-bbc5-e314fe412e5c"
      },
      "source": [
        "data.corr(method='pearson')"
      ],
      "execution_count": null,
      "outputs": [
        {
          "output_type": "execute_result",
          "data": {
            "text/html": [
              "<div>\n",
              "<style scoped>\n",
              "    .dataframe tbody tr th:only-of-type {\n",
              "        vertical-align: middle;\n",
              "    }\n",
              "\n",
              "    .dataframe tbody tr th {\n",
              "        vertical-align: top;\n",
              "    }\n",
              "\n",
              "    .dataframe thead th {\n",
              "        text-align: right;\n",
              "    }\n",
              "</style>\n",
              "<table border=\"1\" class=\"dataframe\">\n",
              "  <thead>\n",
              "    <tr style=\"text-align: right;\">\n",
              "      <th></th>\n",
              "      <th>public_reference</th>\n",
              "      <th>mileage</th>\n",
              "      <th>year_of_registration</th>\n",
              "      <th>price</th>\n",
              "      <th>crossover_car_and_van</th>\n",
              "    </tr>\n",
              "  </thead>\n",
              "  <tbody>\n",
              "    <tr>\n",
              "      <th>public_reference</th>\n",
              "      <td>1.000000</td>\n",
              "      <td>0.022267</td>\n",
              "      <td>0.040837</td>\n",
              "      <td>-0.083649</td>\n",
              "      <td>-0.022271</td>\n",
              "    </tr>\n",
              "    <tr>\n",
              "      <th>mileage</th>\n",
              "      <td>0.022267</td>\n",
              "      <td>1.000000</td>\n",
              "      <td>-0.684291</td>\n",
              "      <td>-0.259270</td>\n",
              "      <td>0.032767</td>\n",
              "    </tr>\n",
              "    <tr>\n",
              "      <th>year_of_registration</th>\n",
              "      <td>0.040837</td>\n",
              "      <td>-0.684291</td>\n",
              "      <td>1.000000</td>\n",
              "      <td>0.184611</td>\n",
              "      <td>-0.021053</td>\n",
              "    </tr>\n",
              "    <tr>\n",
              "      <th>price</th>\n",
              "      <td>-0.083649</td>\n",
              "      <td>-0.259270</td>\n",
              "      <td>0.184611</td>\n",
              "      <td>1.000000</td>\n",
              "      <td>0.021958</td>\n",
              "    </tr>\n",
              "    <tr>\n",
              "      <th>crossover_car_and_van</th>\n",
              "      <td>-0.022271</td>\n",
              "      <td>0.032767</td>\n",
              "      <td>-0.021053</td>\n",
              "      <td>0.021958</td>\n",
              "      <td>1.000000</td>\n",
              "    </tr>\n",
              "  </tbody>\n",
              "</table>\n",
              "</div>"
            ],
            "text/plain": [
              "                       public_reference  ...  crossover_car_and_van\n",
              "public_reference               1.000000  ...              -0.022271\n",
              "mileage                        0.022267  ...               0.032767\n",
              "year_of_registration           0.040837  ...              -0.021053\n",
              "price                         -0.083649  ...               0.021958\n",
              "crossover_car_and_van         -0.022271  ...               1.000000\n",
              "\n",
              "[5 rows x 5 columns]"
            ]
          },
          "metadata": {},
          "execution_count": 98
        }
      ]
    },
    {
      "cell_type": "markdown",
      "metadata": {
        "id": "_X5yRF0XpT-F"
      },
      "source": [
        "The pairwise correlations are shown in the table above.\n",
        "\n",
        "All the values in the pricd column represent how the other columns correlate with price. \n",
        "\n",
        "The higher the magnitude, the more correlation, and consequently a better predictor.\n",
        "\n",
        "Mileage has the highest correlation with price (0.25), as predicted in the above analysis. \n",
        "\n",
        "Followed by Year of registration (0.18), which suggest this feature as the second best predictor of price"
      ]
    },
    {
      "cell_type": "markdown",
      "metadata": {
        "id": "7RYANsCVqnr1"
      },
      "source": [
        "Now to try investigate relationsips between price and categorical variables"
      ]
    },
    {
      "cell_type": "code",
      "metadata": {
        "colab": {
          "base_uri": "https://localhost:8080/",
          "height": 386
        },
        "id": "398Amh0OjicZ",
        "outputId": "e31b4be9-f87c-4f88-bad2-9faa44cf4fd8"
      },
      "source": [
        "sns.catplot(data=data, kind=\"bar\", x=\"body_type\", y=\"price\")"
      ],
      "execution_count": null,
      "outputs": [
        {
          "output_type": "execute_result",
          "data": {
            "text/plain": [
              "<seaborn.axisgrid.FacetGrid at 0x7fdb0c7d1a10>"
            ]
          },
          "metadata": {},
          "execution_count": 140
        },
        {
          "output_type": "display_data",
          "data": {
            "image/png": "[encoded data removed]",
            "text/plain": [
              "<Figure size 360x360 with 1 Axes>"
            ]
          },
          "metadata": {
            "needs_background": "light"
          }
        }
      ]
    },
    {
      "cell_type": "markdown",
      "metadata": {
        "id": "1SVrxBTDummd"
      },
      "source": [
        "I have attempted to display how different body types of cars are priced, however could nto work out the graph, my apologies."
      ]
    },
    {
      "cell_type": "code",
      "metadata": {
        "colab": {
          "base_uri": "https://localhost:8080/",
          "height": 369
        },
        "id": "Y6SxF6KNpARW",
        "outputId": "a98cb140-414b-4268-e461-a6763c0e0a05"
      },
      "source": [
        "sns.catplot(data=data, kind=\"bar\", x=\"standard_colour\", y=\"price\")"
      ],
      "execution_count": null,
      "outputs": [
        {
          "output_type": "display_data",
          "data": {
            "image/png": "[encoded data removed]",
            "text/plain": [
              "<Figure size 360x360 with 1 Axes>"
            ]
          },
          "metadata": {
            "needs_background": "light"
          }
        }
      ]
    },
    {
      "cell_type": "markdown",
      "metadata": {
        "id": "RfuT7n5bu0iu"
      },
      "source": [
        "Attemped to portray the relationship between colours of cars and price, but cant make it out from the graph, sorry."
      ]
    },
    {
      "cell_type": "code",
      "metadata": {
        "colab": {
          "base_uri": "https://localhost:8080/",
          "height": 369
        },
        "id": "aaQKSFxnY8F9",
        "outputId": "85196250-ebb2-46c6-df3f-d7e54eff41b9"
      },
      "source": [
        "sns.catplot(data=data, kind=\"bar\", x=\"fuel_type\", y=\"price\");"
      ],
      "execution_count": null,
      "outputs": [
        {
          "output_type": "display_data",
          "data": {
            "image/png": "[encoded data removed]",
            "text/plain": [
              "<Figure size 360x360 with 1 Axes>"
            ]
          },
          "metadata": {
            "needs_background": "light"
          }
        }
      ]
    },
    {
      "cell_type": "markdown",
      "metadata": {
        "id": "ZxvA6plgvCvj"
      },
      "source": [
        "Same again, had problems with the x labels width and x axis."
      ]
    },
    {
      "cell_type": "code",
      "metadata": {
        "colab": {
          "base_uri": "https://localhost:8080/",
          "height": 280
        },
        "id": "YZyNjF0Fo8ye",
        "outputId": "21b84f44-7e43-42a2-c838-8c8e8671ef4a"
      },
      "source": [
        "sns.boxplot(x='standard_make', y='price', data=data.loc[ data['price']<10000 ], width=0.5);"
      ],
      "execution_count": null,
      "outputs": [
        {
          "output_type": "display_data",
          "data": {
            "image/png": "[encoded data removed]",
            "text/plain": [
              "<Figure size 432x288 with 1 Axes>"
            ]
          },
          "metadata": {
            "needs_background": "light"
          }
        }
      ]
    },
    {
      "cell_type": "markdown",
      "metadata": {
        "id": "lutmP97evI3n"
      },
      "source": [
        "There are a surprising amount of different car makes, cant work out anything from that graph sorry.\n"
      ]
    },
    {
      "cell_type": "markdown",
      "metadata": {
        "id": "yPfpRvxjvThP"
      },
      "source": [
        ".."
      ]
    },
    {
      "cell_type": "markdown",
      "metadata": {
        "id": "QVoWUjRqvVDI"
      },
      "source": [
        "To conclude and summarise:\n",
        "\n",
        "I believe mileage to be the best predictor for the price of a car. Closely followed by the Year of registration and its condition (NEW/USED).\n",
        "\n",
        "I believe i explained the data cleaning and inspection process to a high degree, and the relationships between numerical variables.\n",
        "\n",
        "However, have let myself down at the end when comparing price with the other categorical features.\n",
        "\n",
        "I need to spend more time on the intricacies of graphs using categorical features."
      ]
    }
  ]
}